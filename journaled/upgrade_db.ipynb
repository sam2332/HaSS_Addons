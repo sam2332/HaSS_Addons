{
 "cells": [
  {
   "cell_type": "code",
   "execution_count": 1,
   "metadata": {},
   "outputs": [],
   "source": [
    "import sqlite3"
   ]
  },
  {
   "cell_type": "code",
   "execution_count": 4,
   "metadata": {},
   "outputs": [
    {
     "name": "stdout",
     "output_type": "stream",
     "text": [
      "[('journal_entry',), ('tag',), ('tags',)]\n",
      "{'journal_entry': [(0, 'id', 'INTEGER', 1, None, 1), (1, 'content', 'TEXT', 1, None, 0), (2, 'user', 'VARCHAR(50)', 1, None, 0), (3, 'timestamp', 'DATETIME', 0, 'CURRENT_TIMESTAMP', 0), (4, 'visible', 'BOOLEAN', 0, None, 0)], 'tag': [(0, 'id', 'INTEGER', 1, None, 1), (1, 'name', 'VARCHAR(50)', 1, None, 0), (2, 'user', 'VARCHAR(50)', 1, None, 0), (3, 'last_used', 'DATETIME', 0, 'CURRENT_TIMESTAMP', 0), (4, 'hidden', 'BOOLEAN', 0, None, 0)], 'tags': [(0, 'tag_id', 'INTEGER', 1, None, 1), (1, 'journal_entry_id', 'INTEGER', 1, None, 2)]}\n"
     ]
    }
   ],
   "source": [
    "# get a connection \n",
    "conn = sqlite3.connect(\"/run/user/1000/gvfs/smb-share:server=homeassistant.local,share=config/Journal/app.db\")\n",
    "\n",
    "# get a cursor\n",
    "c = conn.cursor()\n",
    "\n",
    "#get dict of tables: table columns\n",
    "\n",
    "c.execute(\"SELECT name FROM sqlite_master WHERE type='table';\")\n",
    "tables = c.fetchall()\n",
    "print(tables)\n",
    "table_columns = {}\n",
    "for table in tables:\n",
    "    c.execute(\"PRAGMA table_info({})\".format(table[0]))\n",
    "    table_columns[table[0]] = c.fetchall()\n",
    "    \n",
    "print(table_columns)"
   ]
  },
  {
   "cell_type": "code",
   "execution_count": 5,
   "metadata": {},
   "outputs": [
    {
     "ename": "OperationalError",
     "evalue": "attempt to write a readonly database",
     "output_type": "error",
     "traceback": [
      "\u001b[0;31m---------------------------------------------------------------------------\u001b[0m",
      "\u001b[0;31mOperationalError\u001b[0m                          Traceback (most recent call last)",
      "Cell \u001b[0;32mIn[5], line 2\u001b[0m\n\u001b[1;32m      1\u001b[0m \u001b[38;5;28;01mif\u001b[39;00m \u001b[38;5;124m\"\u001b[39m\u001b[38;5;124mmood\u001b[39m\u001b[38;5;124m\"\u001b[39m \u001b[38;5;129;01mnot\u001b[39;00m \u001b[38;5;129;01min\u001b[39;00m table_columns[\u001b[38;5;124m'\u001b[39m\u001b[38;5;124mjournal_entry\u001b[39m\u001b[38;5;124m'\u001b[39m]:\n\u001b[0;32m----> 2\u001b[0m     \u001b[43mc\u001b[49m\u001b[38;5;241;43m.\u001b[39;49m\u001b[43mexecute\u001b[49m\u001b[43m(\u001b[49m\u001b[38;5;124;43m\"\u001b[39;49m\u001b[38;5;124;43mALTER TABLE journal_entry ADD COLUMN mood TEXT\u001b[39;49m\u001b[38;5;124;43m\"\u001b[39;49m\u001b[43m)\u001b[49m\n\u001b[1;32m      3\u001b[0m     conn\u001b[38;5;241m.\u001b[39mcommit()\n\u001b[1;32m      4\u001b[0m     \u001b[38;5;28mprint\u001b[39m(\u001b[38;5;124m\"\u001b[39m\u001b[38;5;124madded mood column\u001b[39m\u001b[38;5;124m\"\u001b[39m)\n",
      "\u001b[0;31mOperationalError\u001b[0m: attempt to write a readonly database"
     ]
    }
   ],
   "source": [
    "if \"mood\" not in table_columns['journal_entry']:\n",
    "    c.execute(\"ALTER TABLE journal_entry ADD COLUMN mood TEXT\")\n",
    "    conn.commit()\n",
    "    print(\"added mood column\")"
   ]
  },
  {
   "cell_type": "code",
   "execution_count": null,
   "metadata": {},
   "outputs": [],
   "source": []
  }
 ],
 "metadata": {
  "kernelspec": {
   "display_name": "Python 3",
   "language": "python",
   "name": "python3"
  },
  "language_info": {
   "codemirror_mode": {
    "name": "ipython",
    "version": 3
   },
   "file_extension": ".py",
   "mimetype": "text/x-python",
   "name": "python",
   "nbconvert_exporter": "python",
   "pygments_lexer": "ipython3",
   "version": "3.10.12"
  }
 },
 "nbformat": 4,
 "nbformat_minor": 2
}
